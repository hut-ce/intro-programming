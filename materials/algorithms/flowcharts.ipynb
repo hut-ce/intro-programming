{
 "cells": [
  {
   "cell_type": "markdown",
   "id": "6a031f28-bbfc-488f-a0cb-18d3ab58080f",
   "metadata": {},
   "source": [
    "# Algorithmsand Flowcharts\n",
    "\n",
    "## What is an Algorithm?\n",
    "An algorithm is a procedure or set of rules that defines how a program is to be executed. Or we can say that it is a set of instructions for solving a well-defined computational problem.\n",
    "\n",
    "## What is a Flowchart?\n",
    "A flowchart is a graphical representation of the steps a program takes to process data. In this, we can use several geometric patterns to illustrate the numerous actions the program carries out.\n",
    "With the help of the flowchart, the designer can efficiently segregate the various elements of the process. Also, it facilitates the analysis by giving step-by-step instructions on the problem.\n",
    "\n",
    "## Difference Between Algorithm And Flowchart\n",
    "| Parameters                | Flowchart                                                                                                                                                                                          | Algorithm                                                                                                                                                                                  |\n",
    "|---------------------------|----------------------------------------------------------------------------------------------------------------------------------------------------------------------------------------------------|--------------------------------------------------------------------------------------------------------------------------------------------------------------------------------------------|\n",
    "| **Description**           | A flowchart is a graphical representation of the steps a program takes to process data. In this, we can use several geometric patterns to illustrate the numerous actions the program carries out. | An algorithm is a procedure or set of rules that defines how a program is to be executed. Or we can say that it is a set of instructions for solving a well-defined computational problem. |\n",
    "| **Complexity**            | It is easy to design and also very user friendly.                                                                                                                                                  | It is comparatively difficult to create and also a bit challenging to be understood by a layman.                                                                                           |\n",
    "| **Geometrical diagrams**  | It utilizes different types of geometrical shapes, symbols, and patterns.                                                                                                                          | An algorithm does not include any sort of geometrical pattern.                                                                                                                             |\n",
    "| **Scope of Usage**        | A flowchart can be used in different disciplines to describe a process.                                                                                                                            | Algorithms are used in the domain of mathematics and computer science.                                                                                                                     |\n",
    "| **Use**                   | A flowchart is used in documenting, designing, and analyzing a program in different disciplines.                                                                                                   | An algorithm is used to represent the concept of decidability.                                                                                                                             |\n",
    "| **Users**                 | A Flowchart doesn’t demand the knowledge of a computer programming language.                                                                                                                       | An algorithm demands the knowledge of a computer programming language.                                                                                                                     |\n",
    "| **Debugging**             | It is easy to debug the errors in flowcharts.                                                                                                                                                      | It is difficult to debug the errors in algorithms.                                                                                                                                         |\n",
    "| **Implementation**        | In flowcharts, no rules are used.                                                                                                                                                                  | In algorithms, predefined rules are used.                                                                                                                                                  |\n",
    "| **Branching and Looping** | Simple to display branching and looping.                                                                                                                                                           | Hard to display branching and looping.                                                                                                                                                     |\n",
    "| **Solution**              | In a flowchart, the solution is represented in a graphical format.                                                                                                                                 | In an algorithm, the solution is presented in non non-computer language.                                                                                                                   |"
   ]
  },
  {
   "cell_type": "markdown",
   "id": "f9836c21-c4f4-44bb-a961-d92028ca0226",
   "metadata": {
    "tags": []
   },
   "source": [
    "## Flowchart Symbols\n",
    "Different flowchart shapes have different conventional meanings. The meanings of some of the more common shapes are as follows:\n",
    "\n",
    "### Terminator\n",
    "The terminator symbol represents the starting or ending point of the system.\n",
    "\n",
    "![Terminator Symbol](../../raw/img/flowcharts/flowchart-symbol-terminator.png)\n",
    "\n",
    "### Process\n",
    "\n",
    "A box indicates some particular operation.\n",
    "\n",
    "![Process Symbol](../../raw/img/flowcharts/flowchart-symbol-process.png)\n",
    "\n",
    "### Document\n",
    "This represents a printout, such as a document or a report.\n",
    "\n",
    "![Document Symbol](../../raw/img/flowcharts/flowchart-symbol-document.png)\n",
    "\n",
    "### Decision\n",
    "A diamond represents a decision or branching point. Lines coming out from the diamond indicates different possible situations, leading to different sub-processes.\n",
    "\n",
    "![Decision Symbol](../../raw/img/flowcharts/flowchart-symbol-decision.png)\n",
    "\n",
    "### Data\n",
    "It represents information entering or leaving the system. An input might be an order from a customer. Output can be a product to be delivered.\n",
    "\n",
    "![Data Symbol](../../raw/img/flowcharts/flowchart-symbol-data.png)\n",
    "\n",
    "### On-Page Reference\n",
    "This symbol would contain a letter inside. It indicates that the flow continues on a matching symbol containing the same letter somewhere else on the same page.\n",
    "\n",
    "![On-Page Reference Symbol](../../raw/img/flowcharts/flowchart-symbol-on-page-reference.png)\n",
    "\n",
    "### Off-Page Reference\n",
    "This symbol would contain a letter inside. It indicates that the flow continues on a matching symbol containing the same letter somewhere else on a different page.\n",
    "\n",
    "![Off-Page Reference Symbol](../../raw/img/flowcharts/flowchart-symbol-off-page-reference.png)\n",
    "\n",
    "### Delay or Bottleneck\n",
    "Identifies a delay or a bottleneck.\n",
    "\n",
    "![flow Symbol](../../raw/img/flowcharts/flowchart-symbol-delay.png)\n",
    "\n",
    "### Flow\n",
    "Lines represent the flow of the sequence and direction of a process.\n",
    "\n",
    "![Flow Symbol](../../raw/img/flowcharts/flowchart-symbol-flow.png)\n"
   ]
  },
  {
   "cell_type": "markdown",
   "id": "90b1e0e2-e4fb-460b-8926-307b8019f379",
   "metadata": {},
   "source": [
    "## When to Draw Flowchart?\n",
    "Using a flowchart has a variety of benefits:\n",
    "\n",
    "* It helps to clarify complex processes.\n",
    "* It identifies steps that do not add value to the internal or external customer, including delays; needless storage and transportation; unnecessary work, duplication, and added expense; breakdowns in communication.\n",
    "* It helps team members gain a shared understanding of the process and use this knowledge to collect data, identify problems, focus discussions, and identify resources.\n",
    "* It serves as a basis for designing new processes."
   ]
  },
  {
   "cell_type": "markdown",
   "id": "2d6b8714-d756-4d38-bd03-ce0753a26089",
   "metadata": {},
   "source": [
    "# Flowchart Example – Simple Algorithms\n",
    "A flowchart can also be used in visualizing algorithms, regardless of its complexity. Here is an example that shows how flowchart can be used in showing a simple summation process.\n",
    "\n",
    "![flow Symbol](../../raw/img/flowcharts/flowchart-example-simple-algorithms.png)\n",
    "\n"
   ]
  },
  {
   "cell_type": "markdown",
   "id": "c60ea0c7-a0dc-434a-a741-74ff52b181ec",
   "metadata": {},
   "source": [
    "# Flowchart Example – Calculate Profit and Loss\n",
    "The flowchart example below shows how profit and loss can be calculated.\n",
    "\n",
    "![flow Symbol](../../raw/img/flowcharts/flowchart-example-calculate-profit-and-loss.png)\n",
    "\n"
   ]
  },
  {
   "cell_type": "code",
   "execution_count": null,
   "id": "5e3fa5a7-628c-417d-9826-49801ac751e8",
   "metadata": {},
   "outputs": [],
   "source": []
  }
 ],
 "metadata": {
  "kernelspec": {
   "display_name": "C++11",
   "language": "C++11",
   "name": "xcpp11"
  },
  "language_info": {
   "codemirror_mode": "text/x-c++src",
   "file_extension": ".cpp",
   "mimetype": "text/x-c++src",
   "name": "c++",
   "version": "11"
  }
 },
 "nbformat": 4,
 "nbformat_minor": 5
}
