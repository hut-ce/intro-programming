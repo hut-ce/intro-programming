{
 "cells": [
  {
   "cell_type": "markdown",
   "id": "6a031f28-bbfc-488f-a0cb-18d3ab58080f",
   "metadata": {},
   "source": [
    "# Flowcharts Examples\n"
   ]
  },
  {
   "cell_type": "markdown",
   "id": "393b0ee2-281b-4e2e-a367-053a8d30bd49",
   "metadata": {},
   "source": [
    "## 1. Some of N Numbers\n",
    "\n",
    "![Some of N Numbers](../../raw/img/flowcharts/examples/sum-of-numbers.svg)\n"
   ]
  },
  {
   "cell_type": "markdown",
   "id": "7b4293cc-f430-4ae0-9fb1-a25d5f364237",
   "metadata": {},
   "source": [
    "## 2. Average of N Numbers\n",
    "\n",
    "![Some of N Numbers](../../raw/img/flowcharts/examples/avg-of-numbers.svg)"
   ]
  },
  {
   "cell_type": "markdown",
   "id": "db66c6da-768e-45d8-8dde-1ea554358572",
   "metadata": {},
   "source": [
    "## 3. Prime Number Check\n",
    "\n",
    "![Prime Number Check](../../raw/img/flowcharts/examples/flow-check-prime.png)"
   ]
  },
  {
   "cell_type": "markdown",
   "id": "edd3bcea-2214-4283-b017-20f8faff14fb",
   "metadata": {},
   "source": [
    "## 4. Min/Max of N Numbers\n",
    "\n",
    "![Min/Max of N Numbers](../../raw/img/flowcharts/examples/flow-min.png)"
   ]
  },
  {
   "cell_type": "markdown",
   "id": "b4a13c2e-a79a-4c95-97e4-8cfd9db197e9",
   "metadata": {},
   "source": [
    "## 5. Can Design Triangle\n",
    "\n",
    "![Min/Max of N Numbers](../../raw/img/flowcharts/examples/flow-possible-triangle.png)"
   ]
  },
  {
   "cell_type": "markdown",
   "id": "a76bb3c5-1678-409d-8959-7c492e558804",
   "metadata": {},
   "source": [
    "## 6.Count Number of Digits\n",
    "![Count Number of Digits](../../raw/img/flowcharts/examples/flow-count-digits.png)"
   ]
  },
  {
   "cell_type": "markdown",
   "id": "648839f0-44cd-47c5-9a08-e146b516c9e1",
   "metadata": {},
   "source": [
    "## 7. GCD Calculation\n",
    "\n",
    "![Min/Max of N Numbers](../../raw/img/flowcharts/examples/flow-gcd.png)"
   ]
  },
  {
   "cell_type": "markdown",
   "id": "0dea377d-97ee-4d32-9367-3462ead1d23b",
   "metadata": {},
   "source": [
    "## 8. Convert Binary to Decimal\n",
    "\n",
    "![Min/Max of N Numbers](../../raw/img/flowcharts/examples/flow-bin-to-decimal.png)"
   ]
  },
  {
   "cell_type": "markdown",
   "id": "1797e592-0c33-4e69-a2e2-713ec9f7089f",
   "metadata": {},
   "source": [
    "## 9. Some of Digits in Numbrt\n",
    "\n",
    "![Min/Max of N Numbers](../../raw/img/flowcharts/examples/flow-digits-sum.png)"
   ]
  },
  {
   "cell_type": "markdown",
   "id": "dda41cbe-9015-4cb3-95f1-2acd1f03ca11",
   "metadata": {},
   "source": [
    "## 10. Calculate Fibonacci series up to n\n",
    "\n",
    "![Min/Max of N Numbers](../../raw/img/flowcharts/examples/flow-fibonacci-series.png)"
   ]
  },
  {
   "cell_type": "code",
   "execution_count": null,
   "id": "a3d2f6bd-437e-443d-b88a-9e6b6f5909bc",
   "metadata": {},
   "outputs": [],
   "source": []
  }
 ],
 "metadata": {
  "kernelspec": {
   "display_name": "C++11",
   "language": "C++11",
   "name": "xcpp11"
  },
  "language_info": {
   "codemirror_mode": "text/x-c++src",
   "file_extension": ".cpp",
   "mimetype": "text/x-c++src",
   "name": "c++",
   "version": "11"
  }
 },
 "nbformat": 4,
 "nbformat_minor": 5
}
