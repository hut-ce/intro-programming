{
 "cells": [
  {
   "cell_type": "markdown",
   "id": "6a031f28-bbfc-488f-a0cb-18d3ab58080f",
   "metadata": {},
   "source": [
    "# Flowcharts Examples with Solution"
   ]
  },
  {
   "cell_type": "markdown",
   "id": "393b0ee2-281b-4e2e-a367-053a8d30bd49",
   "metadata": {},
   "source": [
    "## 1. Some of N Numbers\n",
    "\n",
    "<center><img src=\"../../raw/img/flowcharts/examples/sum-of-numbers.svg\" width=\"700\"/></center>\n"
   ]
  },
  {
   "cell_type": "markdown",
   "id": "7b4293cc-f430-4ae0-9fb1-a25d5f364237",
   "metadata": {},
   "source": [
    "## 2. Average of N Numbers\n",
    "\n",
    "<center><img src=\"../../raw/img/flowcharts/examples/avg-of-numbers.svg\" width=\"700\"/></center>\n"
   ]
  },
  {
   "cell_type": "markdown",
   "id": "db66c6da-768e-45d8-8dde-1ea554358572",
   "metadata": {},
   "source": [
    "## 3. Prime Number Check\n",
    "\n",
    "<center><img src=\"../../raw/img/flowcharts/examples/prime-number-check.svg\" width=\"700\"/></center>\n"
   ]
  },
  {
   "cell_type": "markdown",
   "id": "edd3bcea-2214-4283-b017-20f8faff14fb",
   "metadata": {},
   "source": [
    "## 4. Min/Max of N Numbers\n",
    "\n",
    "<center><img src=\"../../raw/img/flowcharts/examples/min-max-of-n-numbers.svg\" width=\"700\"/></center>\n"
   ]
  },
  {
   "cell_type": "markdown",
   "id": "b4a13c2e-a79a-4c95-97e4-8cfd9db197e9",
   "metadata": {},
   "source": [
    "## 5. Possible Design Triangle via Lines\n",
    "\n",
    "<center><img src=\"../../raw/img/flowcharts/examples/possible-triangle-lines.svg\" width=\"700\"/></center>\n"
   ]
  },
  {
   "cell_type": "markdown",
   "id": "a76bb3c5-1678-409d-8959-7c492e558804",
   "metadata": {},
   "source": [
    "## 6.Count Number of Digits\n",
    "\n",
    "<center><img src=\"../../raw/img/flowcharts/examples/count-number-of-digits.svg\" width=\"700\"/></center>\n"
   ]
  },
  {
   "cell_type": "markdown",
   "id": "648839f0-44cd-47c5-9a08-e146b516c9e1",
   "metadata": {},
   "source": [
    "## 7. GCD Calculation\n",
    "\n",
    "<center><img src=\"../../raw/img/flowcharts/examples/calculate-gcd.svg\" width=\"700\"/></center>\n"
   ]
  },
  {
   "cell_type": "markdown",
   "id": "15963551-3b8c-43e7-8f4c-139988ee4b32",
   "metadata": {},
   "source": [
    "# Flowcharts Examples without Solution\n"
   ]
  },
  {
   "cell_type": "markdown",
   "id": "46be4d44-7a65-42df-865e-65c68b9a2f2f",
   "metadata": {},
   "source": [
    "### 1. Calculate Fibonacci series up to N\n",
    "\n",
    "### 2. Some of Digits in Numbrt\n",
    "\n",
    "### 3. Convert Binary to Decimal\n",
    "\n",
    "### 4. Convert Decimal to Binary (Reversed)\n",
    "\n",
    "### 5. Convert Binary to Decimal\n"
   ]
  },
  {
   "cell_type": "code",
   "execution_count": null,
   "id": "193c2b3d-91e4-4c2b-aa5e-a4d76befab31",
   "metadata": {},
   "outputs": [],
   "source": []
  }
 ],
 "metadata": {
  "kernelspec": {
   "display_name": "C++11",
   "language": "C++11",
   "name": "xcpp11"
  },
  "language_info": {
   "codemirror_mode": "text/x-c++src",
   "file_extension": ".cpp",
   "mimetype": "text/x-c++src",
   "name": "c++",
   "version": "11"
  }
 },
 "nbformat": 4,
 "nbformat_minor": 5
}
